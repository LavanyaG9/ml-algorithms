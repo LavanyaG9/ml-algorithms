{
 "cells": [
  {
   "cell_type": "code",
   "execution_count": 1,
   "id": "388bd548",
   "metadata": {},
   "outputs": [],
   "source": [
    "import numpy as np\n",
    "import pandas as pd\n",
    "import matplotlib.pyplot as plt"
   ]
  },
  {
   "cell_type": "code",
   "execution_count": 2,
   "id": "2f4f0fab",
   "metadata": {},
   "outputs": [],
   "source": [
    "df=pd.read_csv('carseats.csv')"
   ]
  },
  {
   "cell_type": "code",
   "execution_count": 3,
   "id": "837d621f",
   "metadata": {},
   "outputs": [
    {
     "data": {
      "text/plain": [
       "(400, 11)"
      ]
     },
     "execution_count": 3,
     "metadata": {},
     "output_type": "execute_result"
    }
   ],
   "source": [
    "df.shape"
   ]
  },
  {
   "cell_type": "code",
   "execution_count": 4,
   "id": "585c00b7",
   "metadata": {},
   "outputs": [
    {
     "data": {
      "text/html": [
       "<div>\n",
       "<style scoped>\n",
       "    .dataframe tbody tr th:only-of-type {\n",
       "        vertical-align: middle;\n",
       "    }\n",
       "\n",
       "    .dataframe tbody tr th {\n",
       "        vertical-align: top;\n",
       "    }\n",
       "\n",
       "    .dataframe thead th {\n",
       "        text-align: right;\n",
       "    }\n",
       "</style>\n",
       "<table border=\"1\" class=\"dataframe\">\n",
       "  <thead>\n",
       "    <tr style=\"text-align: right;\">\n",
       "      <th></th>\n",
       "      <th>Sales</th>\n",
       "      <th>CompPrice</th>\n",
       "      <th>Income</th>\n",
       "      <th>Advertising</th>\n",
       "      <th>Population</th>\n",
       "      <th>Price</th>\n",
       "      <th>ShelveLoc</th>\n",
       "      <th>Age</th>\n",
       "      <th>Education</th>\n",
       "      <th>Urban</th>\n",
       "      <th>US</th>\n",
       "    </tr>\n",
       "  </thead>\n",
       "  <tbody>\n",
       "    <tr>\n",
       "      <th>0</th>\n",
       "      <td>9.50</td>\n",
       "      <td>138</td>\n",
       "      <td>73</td>\n",
       "      <td>11</td>\n",
       "      <td>276</td>\n",
       "      <td>120</td>\n",
       "      <td>Bad</td>\n",
       "      <td>42</td>\n",
       "      <td>17</td>\n",
       "      <td>Yes</td>\n",
       "      <td>Yes</td>\n",
       "    </tr>\n",
       "    <tr>\n",
       "      <th>1</th>\n",
       "      <td>11.22</td>\n",
       "      <td>111</td>\n",
       "      <td>48</td>\n",
       "      <td>16</td>\n",
       "      <td>260</td>\n",
       "      <td>83</td>\n",
       "      <td>Good</td>\n",
       "      <td>65</td>\n",
       "      <td>10</td>\n",
       "      <td>Yes</td>\n",
       "      <td>Yes</td>\n",
       "    </tr>\n",
       "    <tr>\n",
       "      <th>2</th>\n",
       "      <td>10.06</td>\n",
       "      <td>113</td>\n",
       "      <td>35</td>\n",
       "      <td>10</td>\n",
       "      <td>269</td>\n",
       "      <td>80</td>\n",
       "      <td>Medium</td>\n",
       "      <td>59</td>\n",
       "      <td>12</td>\n",
       "      <td>Yes</td>\n",
       "      <td>Yes</td>\n",
       "    </tr>\n",
       "    <tr>\n",
       "      <th>3</th>\n",
       "      <td>7.40</td>\n",
       "      <td>117</td>\n",
       "      <td>100</td>\n",
       "      <td>4</td>\n",
       "      <td>466</td>\n",
       "      <td>97</td>\n",
       "      <td>Medium</td>\n",
       "      <td>55</td>\n",
       "      <td>14</td>\n",
       "      <td>Yes</td>\n",
       "      <td>Yes</td>\n",
       "    </tr>\n",
       "    <tr>\n",
       "      <th>4</th>\n",
       "      <td>4.15</td>\n",
       "      <td>141</td>\n",
       "      <td>64</td>\n",
       "      <td>3</td>\n",
       "      <td>340</td>\n",
       "      <td>128</td>\n",
       "      <td>Bad</td>\n",
       "      <td>38</td>\n",
       "      <td>13</td>\n",
       "      <td>Yes</td>\n",
       "      <td>No</td>\n",
       "    </tr>\n",
       "  </tbody>\n",
       "</table>\n",
       "</div>"
      ],
      "text/plain": [
       "   Sales  CompPrice  Income  Advertising  Population  Price ShelveLoc  Age  \\\n",
       "0   9.50        138      73           11         276    120       Bad   42   \n",
       "1  11.22        111      48           16         260     83      Good   65   \n",
       "2  10.06        113      35           10         269     80    Medium   59   \n",
       "3   7.40        117     100            4         466     97    Medium   55   \n",
       "4   4.15        141      64            3         340    128       Bad   38   \n",
       "\n",
       "   Education Urban   US  \n",
       "0         17   Yes  Yes  \n",
       "1         10   Yes  Yes  \n",
       "2         12   Yes  Yes  \n",
       "3         14   Yes  Yes  \n",
       "4         13   Yes   No  "
      ]
     },
     "execution_count": 4,
     "metadata": {},
     "output_type": "execute_result"
    }
   ],
   "source": [
    "df.head()"
   ]
  },
  {
   "cell_type": "code",
   "execution_count": 6,
   "id": "a6d421bf",
   "metadata": {},
   "outputs": [
    {
     "data": {
      "text/plain": [
       "Sales          0\n",
       "CompPrice      0\n",
       "Income         0\n",
       "Advertising    0\n",
       "Population     0\n",
       "Price          0\n",
       "ShelveLoc      0\n",
       "Age            0\n",
       "Education      0\n",
       "Urban          0\n",
       "US             0\n",
       "dtype: int64"
      ]
     },
     "execution_count": 6,
     "metadata": {},
     "output_type": "execute_result"
    }
   ],
   "source": [
    "df.isnull().sum()"
   ]
  },
  {
   "cell_type": "code",
   "execution_count": 7,
   "id": "d0a387f1",
   "metadata": {},
   "outputs": [
    {
     "data": {
      "text/plain": [
       "Sales          float64\n",
       "CompPrice        int64\n",
       "Income           int64\n",
       "Advertising      int64\n",
       "Population       int64\n",
       "Price            int64\n",
       "ShelveLoc       object\n",
       "Age              int64\n",
       "Education        int64\n",
       "Urban           object\n",
       "US              object\n",
       "dtype: object"
      ]
     },
     "execution_count": 7,
     "metadata": {},
     "output_type": "execute_result"
    }
   ],
   "source": [
    "df.dtypes"
   ]
  },
  {
   "cell_type": "code",
   "execution_count": null,
   "id": "6fd30a74",
   "metadata": {},
   "outputs": [],
   "source": []
  },
  {
   "cell_type": "code",
   "execution_count": 8,
   "id": "0f1ef8a2",
   "metadata": {},
   "outputs": [
    {
     "data": {
      "text/html": [
       "<div>\n",
       "<style scoped>\n",
       "    .dataframe tbody tr th:only-of-type {\n",
       "        vertical-align: middle;\n",
       "    }\n",
       "\n",
       "    .dataframe tbody tr th {\n",
       "        vertical-align: top;\n",
       "    }\n",
       "\n",
       "    .dataframe thead th {\n",
       "        text-align: right;\n",
       "    }\n",
       "</style>\n",
       "<table border=\"1\" class=\"dataframe\">\n",
       "  <thead>\n",
       "    <tr style=\"text-align: right;\">\n",
       "      <th></th>\n",
       "      <th>Sales</th>\n",
       "      <th>CompPrice</th>\n",
       "      <th>Income</th>\n",
       "      <th>Advertising</th>\n",
       "      <th>Population</th>\n",
       "      <th>Price</th>\n",
       "      <th>Age</th>\n",
       "      <th>Education</th>\n",
       "    </tr>\n",
       "  </thead>\n",
       "  <tbody>\n",
       "    <tr>\n",
       "      <th>Sales</th>\n",
       "      <td>1.000000</td>\n",
       "      <td>0.064079</td>\n",
       "      <td>0.151951</td>\n",
       "      <td>0.269507</td>\n",
       "      <td>0.050471</td>\n",
       "      <td>-0.444951</td>\n",
       "      <td>-0.231815</td>\n",
       "      <td>-0.051955</td>\n",
       "    </tr>\n",
       "    <tr>\n",
       "      <th>CompPrice</th>\n",
       "      <td>0.064079</td>\n",
       "      <td>1.000000</td>\n",
       "      <td>-0.080653</td>\n",
       "      <td>-0.024199</td>\n",
       "      <td>-0.094707</td>\n",
       "      <td>0.584848</td>\n",
       "      <td>-0.100239</td>\n",
       "      <td>0.025197</td>\n",
       "    </tr>\n",
       "    <tr>\n",
       "      <th>Income</th>\n",
       "      <td>0.151951</td>\n",
       "      <td>-0.080653</td>\n",
       "      <td>1.000000</td>\n",
       "      <td>0.058995</td>\n",
       "      <td>-0.007877</td>\n",
       "      <td>-0.056698</td>\n",
       "      <td>-0.004670</td>\n",
       "      <td>-0.056855</td>\n",
       "    </tr>\n",
       "    <tr>\n",
       "      <th>Advertising</th>\n",
       "      <td>0.269507</td>\n",
       "      <td>-0.024199</td>\n",
       "      <td>0.058995</td>\n",
       "      <td>1.000000</td>\n",
       "      <td>0.265652</td>\n",
       "      <td>0.044537</td>\n",
       "      <td>-0.004557</td>\n",
       "      <td>-0.033594</td>\n",
       "    </tr>\n",
       "    <tr>\n",
       "      <th>Population</th>\n",
       "      <td>0.050471</td>\n",
       "      <td>-0.094707</td>\n",
       "      <td>-0.007877</td>\n",
       "      <td>0.265652</td>\n",
       "      <td>1.000000</td>\n",
       "      <td>-0.012144</td>\n",
       "      <td>-0.042663</td>\n",
       "      <td>-0.106378</td>\n",
       "    </tr>\n",
       "    <tr>\n",
       "      <th>Price</th>\n",
       "      <td>-0.444951</td>\n",
       "      <td>0.584848</td>\n",
       "      <td>-0.056698</td>\n",
       "      <td>0.044537</td>\n",
       "      <td>-0.012144</td>\n",
       "      <td>1.000000</td>\n",
       "      <td>-0.102177</td>\n",
       "      <td>0.011747</td>\n",
       "    </tr>\n",
       "    <tr>\n",
       "      <th>Age</th>\n",
       "      <td>-0.231815</td>\n",
       "      <td>-0.100239</td>\n",
       "      <td>-0.004670</td>\n",
       "      <td>-0.004557</td>\n",
       "      <td>-0.042663</td>\n",
       "      <td>-0.102177</td>\n",
       "      <td>1.000000</td>\n",
       "      <td>0.006488</td>\n",
       "    </tr>\n",
       "    <tr>\n",
       "      <th>Education</th>\n",
       "      <td>-0.051955</td>\n",
       "      <td>0.025197</td>\n",
       "      <td>-0.056855</td>\n",
       "      <td>-0.033594</td>\n",
       "      <td>-0.106378</td>\n",
       "      <td>0.011747</td>\n",
       "      <td>0.006488</td>\n",
       "      <td>1.000000</td>\n",
       "    </tr>\n",
       "  </tbody>\n",
       "</table>\n",
       "</div>"
      ],
      "text/plain": [
       "                Sales  CompPrice    Income  Advertising  Population     Price  \\\n",
       "Sales        1.000000   0.064079  0.151951     0.269507    0.050471 -0.444951   \n",
       "CompPrice    0.064079   1.000000 -0.080653    -0.024199   -0.094707  0.584848   \n",
       "Income       0.151951  -0.080653  1.000000     0.058995   -0.007877 -0.056698   \n",
       "Advertising  0.269507  -0.024199  0.058995     1.000000    0.265652  0.044537   \n",
       "Population   0.050471  -0.094707 -0.007877     0.265652    1.000000 -0.012144   \n",
       "Price       -0.444951   0.584848 -0.056698     0.044537   -0.012144  1.000000   \n",
       "Age         -0.231815  -0.100239 -0.004670    -0.004557   -0.042663 -0.102177   \n",
       "Education   -0.051955   0.025197 -0.056855    -0.033594   -0.106378  0.011747   \n",
       "\n",
       "                  Age  Education  \n",
       "Sales       -0.231815  -0.051955  \n",
       "CompPrice   -0.100239   0.025197  \n",
       "Income      -0.004670  -0.056855  \n",
       "Advertising -0.004557  -0.033594  \n",
       "Population  -0.042663  -0.106378  \n",
       "Price       -0.102177   0.011747  \n",
       "Age          1.000000   0.006488  \n",
       "Education    0.006488   1.000000  "
      ]
     },
     "execution_count": 8,
     "metadata": {},
     "output_type": "execute_result"
    }
   ],
   "source": [
    "df.corr()"
   ]
  },
  {
   "cell_type": "code",
   "execution_count": 11,
   "id": "9de717f0",
   "metadata": {},
   "outputs": [
    {
     "data": {
      "text/plain": [
       "0       Bad\n",
       "1      Good\n",
       "2    Medium\n",
       "3    Medium\n",
       "4       Bad\n",
       "Name: ShelveLoc, dtype: object"
      ]
     },
     "execution_count": 11,
     "metadata": {},
     "output_type": "execute_result"
    }
   ],
   "source": [
    "df2=df.copy()\n",
    "df2['ShelveLoc'].head()"
   ]
  },
  {
   "cell_type": "code",
   "execution_count": 13,
   "id": "0d8b1d3e",
   "metadata": {},
   "outputs": [
    {
     "data": {
      "text/plain": [
       "0    0\n",
       "1    2\n",
       "2    1\n",
       "3    1\n",
       "4    0\n",
       "Name: ShelveLoc_new, dtype: int64"
      ]
     },
     "execution_count": 13,
     "metadata": {},
     "output_type": "execute_result"
    }
   ],
   "source": [
    "my_dict={\n",
    "    'Bad':0,\n",
    "    'Medium':1,\n",
    "    'Good':2,\n",
    "}\n",
    "df2['ShelveLoc_new']=df2['ShelveLoc'].map(my_dict)\n",
    "df2['ShelveLoc_new'].head()"
   ]
  },
  {
   "cell_type": "code",
   "execution_count": 14,
   "id": "74422cec",
   "metadata": {},
   "outputs": [],
   "source": [
    "df2.drop('ShelveLoc',axis=1,inplace=True)"
   ]
  },
  {
   "cell_type": "code",
   "execution_count": 15,
   "id": "1bf3187b",
   "metadata": {},
   "outputs": [],
   "source": [
    "df2=pd.get_dummies(df2,drop_first=True)"
   ]
  },
  {
   "cell_type": "code",
   "execution_count": 16,
   "id": "e3779f1c",
   "metadata": {},
   "outputs": [
    {
     "data": {
      "text/html": [
       "<div>\n",
       "<style scoped>\n",
       "    .dataframe tbody tr th:only-of-type {\n",
       "        vertical-align: middle;\n",
       "    }\n",
       "\n",
       "    .dataframe tbody tr th {\n",
       "        vertical-align: top;\n",
       "    }\n",
       "\n",
       "    .dataframe thead th {\n",
       "        text-align: right;\n",
       "    }\n",
       "</style>\n",
       "<table border=\"1\" class=\"dataframe\">\n",
       "  <thead>\n",
       "    <tr style=\"text-align: right;\">\n",
       "      <th></th>\n",
       "      <th>Sales</th>\n",
       "      <th>CompPrice</th>\n",
       "      <th>Income</th>\n",
       "      <th>Advertising</th>\n",
       "      <th>Population</th>\n",
       "      <th>Price</th>\n",
       "      <th>Age</th>\n",
       "      <th>Education</th>\n",
       "      <th>ShelveLoc_new</th>\n",
       "      <th>Urban_Yes</th>\n",
       "      <th>US_Yes</th>\n",
       "    </tr>\n",
       "  </thead>\n",
       "  <tbody>\n",
       "    <tr>\n",
       "      <th>Sales</th>\n",
       "      <td>1.000000</td>\n",
       "      <td>0.064079</td>\n",
       "      <td>0.151951</td>\n",
       "      <td>0.269507</td>\n",
       "      <td>0.050471</td>\n",
       "      <td>-0.444951</td>\n",
       "      <td>-0.231815</td>\n",
       "      <td>-0.051955</td>\n",
       "      <td>0.554458</td>\n",
       "      <td>-0.015419</td>\n",
       "      <td>0.177093</td>\n",
       "    </tr>\n",
       "    <tr>\n",
       "      <th>CompPrice</th>\n",
       "      <td>0.064079</td>\n",
       "      <td>1.000000</td>\n",
       "      <td>-0.080653</td>\n",
       "      <td>-0.024199</td>\n",
       "      <td>-0.094707</td>\n",
       "      <td>0.584848</td>\n",
       "      <td>-0.100239</td>\n",
       "      <td>0.025197</td>\n",
       "      <td>0.038549</td>\n",
       "      <td>0.066594</td>\n",
       "      <td>0.016869</td>\n",
       "    </tr>\n",
       "    <tr>\n",
       "      <th>Income</th>\n",
       "      <td>0.151951</td>\n",
       "      <td>-0.080653</td>\n",
       "      <td>1.000000</td>\n",
       "      <td>0.058995</td>\n",
       "      <td>-0.007877</td>\n",
       "      <td>-0.056698</td>\n",
       "      <td>-0.004670</td>\n",
       "      <td>-0.056855</td>\n",
       "      <td>-0.053465</td>\n",
       "      <td>0.037967</td>\n",
       "      <td>0.089601</td>\n",
       "    </tr>\n",
       "    <tr>\n",
       "      <th>Advertising</th>\n",
       "      <td>0.269507</td>\n",
       "      <td>-0.024199</td>\n",
       "      <td>0.058995</td>\n",
       "      <td>1.000000</td>\n",
       "      <td>0.265652</td>\n",
       "      <td>0.044537</td>\n",
       "      <td>-0.004557</td>\n",
       "      <td>-0.033594</td>\n",
       "      <td>0.056552</td>\n",
       "      <td>0.042035</td>\n",
       "      <td>0.684460</td>\n",
       "    </tr>\n",
       "    <tr>\n",
       "      <th>Population</th>\n",
       "      <td>0.050471</td>\n",
       "      <td>-0.094707</td>\n",
       "      <td>-0.007877</td>\n",
       "      <td>0.265652</td>\n",
       "      <td>1.000000</td>\n",
       "      <td>-0.012144</td>\n",
       "      <td>-0.042663</td>\n",
       "      <td>-0.106378</td>\n",
       "      <td>-0.020614</td>\n",
       "      <td>-0.052025</td>\n",
       "      <td>0.060564</td>\n",
       "    </tr>\n",
       "    <tr>\n",
       "      <th>Price</th>\n",
       "      <td>-0.444951</td>\n",
       "      <td>0.584848</td>\n",
       "      <td>-0.056698</td>\n",
       "      <td>0.044537</td>\n",
       "      <td>-0.012144</td>\n",
       "      <td>1.000000</td>\n",
       "      <td>-0.102177</td>\n",
       "      <td>0.011747</td>\n",
       "      <td>0.050924</td>\n",
       "      <td>0.047016</td>\n",
       "      <td>0.057861</td>\n",
       "    </tr>\n",
       "    <tr>\n",
       "      <th>Age</th>\n",
       "      <td>-0.231815</td>\n",
       "      <td>-0.100239</td>\n",
       "      <td>-0.004670</td>\n",
       "      <td>-0.004557</td>\n",
       "      <td>-0.042663</td>\n",
       "      <td>-0.102177</td>\n",
       "      <td>1.000000</td>\n",
       "      <td>0.006488</td>\n",
       "      <td>0.014149</td>\n",
       "      <td>0.028479</td>\n",
       "      <td>0.008652</td>\n",
       "    </tr>\n",
       "    <tr>\n",
       "      <th>Education</th>\n",
       "      <td>-0.051955</td>\n",
       "      <td>0.025197</td>\n",
       "      <td>-0.056855</td>\n",
       "      <td>-0.033594</td>\n",
       "      <td>-0.106378</td>\n",
       "      <td>0.011747</td>\n",
       "      <td>0.006488</td>\n",
       "      <td>1.000000</td>\n",
       "      <td>-0.025723</td>\n",
       "      <td>-0.033094</td>\n",
       "      <td>-0.078250</td>\n",
       "    </tr>\n",
       "    <tr>\n",
       "      <th>ShelveLoc_new</th>\n",
       "      <td>0.554458</td>\n",
       "      <td>0.038549</td>\n",
       "      <td>-0.053465</td>\n",
       "      <td>0.056552</td>\n",
       "      <td>-0.020614</td>\n",
       "      <td>0.050924</td>\n",
       "      <td>0.014149</td>\n",
       "      <td>-0.025723</td>\n",
       "      <td>1.000000</td>\n",
       "      <td>-0.075404</td>\n",
       "      <td>0.047378</td>\n",
       "    </tr>\n",
       "    <tr>\n",
       "      <th>Urban_Yes</th>\n",
       "      <td>-0.015419</td>\n",
       "      <td>0.066594</td>\n",
       "      <td>0.037967</td>\n",
       "      <td>0.042035</td>\n",
       "      <td>-0.052025</td>\n",
       "      <td>0.047016</td>\n",
       "      <td>0.028479</td>\n",
       "      <td>-0.033094</td>\n",
       "      <td>-0.075404</td>\n",
       "      <td>1.000000</td>\n",
       "      <td>0.047085</td>\n",
       "    </tr>\n",
       "    <tr>\n",
       "      <th>US_Yes</th>\n",
       "      <td>0.177093</td>\n",
       "      <td>0.016869</td>\n",
       "      <td>0.089601</td>\n",
       "      <td>0.684460</td>\n",
       "      <td>0.060564</td>\n",
       "      <td>0.057861</td>\n",
       "      <td>0.008652</td>\n",
       "      <td>-0.078250</td>\n",
       "      <td>0.047378</td>\n",
       "      <td>0.047085</td>\n",
       "      <td>1.000000</td>\n",
       "    </tr>\n",
       "  </tbody>\n",
       "</table>\n",
       "</div>"
      ],
      "text/plain": [
       "                  Sales  CompPrice    Income  Advertising  Population  \\\n",
       "Sales          1.000000   0.064079  0.151951     0.269507    0.050471   \n",
       "CompPrice      0.064079   1.000000 -0.080653    -0.024199   -0.094707   \n",
       "Income         0.151951  -0.080653  1.000000     0.058995   -0.007877   \n",
       "Advertising    0.269507  -0.024199  0.058995     1.000000    0.265652   \n",
       "Population     0.050471  -0.094707 -0.007877     0.265652    1.000000   \n",
       "Price         -0.444951   0.584848 -0.056698     0.044537   -0.012144   \n",
       "Age           -0.231815  -0.100239 -0.004670    -0.004557   -0.042663   \n",
       "Education     -0.051955   0.025197 -0.056855    -0.033594   -0.106378   \n",
       "ShelveLoc_new  0.554458   0.038549 -0.053465     0.056552   -0.020614   \n",
       "Urban_Yes     -0.015419   0.066594  0.037967     0.042035   -0.052025   \n",
       "US_Yes         0.177093   0.016869  0.089601     0.684460    0.060564   \n",
       "\n",
       "                  Price       Age  Education  ShelveLoc_new  Urban_Yes  \\\n",
       "Sales         -0.444951 -0.231815  -0.051955       0.554458  -0.015419   \n",
       "CompPrice      0.584848 -0.100239   0.025197       0.038549   0.066594   \n",
       "Income        -0.056698 -0.004670  -0.056855      -0.053465   0.037967   \n",
       "Advertising    0.044537 -0.004557  -0.033594       0.056552   0.042035   \n",
       "Population    -0.012144 -0.042663  -0.106378      -0.020614  -0.052025   \n",
       "Price          1.000000 -0.102177   0.011747       0.050924   0.047016   \n",
       "Age           -0.102177  1.000000   0.006488       0.014149   0.028479   \n",
       "Education      0.011747  0.006488   1.000000      -0.025723  -0.033094   \n",
       "ShelveLoc_new  0.050924  0.014149  -0.025723       1.000000  -0.075404   \n",
       "Urban_Yes      0.047016  0.028479  -0.033094      -0.075404   1.000000   \n",
       "US_Yes         0.057861  0.008652  -0.078250       0.047378   0.047085   \n",
       "\n",
       "                 US_Yes  \n",
       "Sales          0.177093  \n",
       "CompPrice      0.016869  \n",
       "Income         0.089601  \n",
       "Advertising    0.684460  \n",
       "Population     0.060564  \n",
       "Price          0.057861  \n",
       "Age            0.008652  \n",
       "Education     -0.078250  \n",
       "ShelveLoc_new  0.047378  \n",
       "Urban_Yes      0.047085  \n",
       "US_Yes         1.000000  "
      ]
     },
     "execution_count": 16,
     "metadata": {},
     "output_type": "execute_result"
    }
   ],
   "source": [
    "df2.corr()"
   ]
  },
  {
   "cell_type": "code",
   "execution_count": 17,
   "id": "4d76b627",
   "metadata": {},
   "outputs": [
    {
     "data": {
      "text/plain": [
       "Sales            float64\n",
       "CompPrice          int64\n",
       "Income             int64\n",
       "Advertising        int64\n",
       "Population         int64\n",
       "Price              int64\n",
       "Age                int64\n",
       "Education          int64\n",
       "ShelveLoc_new      int64\n",
       "Urban_Yes          uint8\n",
       "US_Yes             uint8\n",
       "dtype: object"
      ]
     },
     "execution_count": 17,
     "metadata": {},
     "output_type": "execute_result"
    }
   ],
   "source": [
    "df2.dtypes"
   ]
  },
  {
   "cell_type": "markdown",
   "id": "58c1ba29",
   "metadata": {},
   "source": []
  },
  {
   "cell_type": "code",
   "execution_count": 18,
   "id": "4ad33217",
   "metadata": {},
   "outputs": [],
   "source": [
    "x=df2.iloc[:,1:].values\n",
    "y=df2.iloc[:,0].values"
   ]
  },
  {
   "cell_type": "code",
   "execution_count": 19,
   "id": "23749de4",
   "metadata": {},
   "outputs": [
    {
     "data": {
      "text/plain": [
       "(400, 10)"
      ]
     },
     "execution_count": 19,
     "metadata": {},
     "output_type": "execute_result"
    }
   ],
   "source": [
    "x.shape"
   ]
  },
  {
   "cell_type": "code",
   "execution_count": 20,
   "id": "c8d3017e",
   "metadata": {},
   "outputs": [
    {
     "data": {
      "text/plain": [
       "(400,)"
      ]
     },
     "execution_count": 20,
     "metadata": {},
     "output_type": "execute_result"
    }
   ],
   "source": [
    "y.shape"
   ]
  },
  {
   "cell_type": "code",
   "execution_count": 21,
   "id": "47a57780",
   "metadata": {},
   "outputs": [],
   "source": [
    "y=y.reshape(-1,1)"
   ]
  },
  {
   "cell_type": "code",
   "execution_count": 22,
   "id": "2bbdcbda",
   "metadata": {},
   "outputs": [],
   "source": [
    "from sklearn.model_selection import train_test_split\n",
    "x_train,x_test,y_train,y_test=train_test_split(x,y,test_size=0.2,random_state=0)"
   ]
  },
  {
   "cell_type": "code",
   "execution_count": 23,
   "id": "eac710b7",
   "metadata": {},
   "outputs": [],
   "source": [
    "from sklearn.linear_model import LinearRegression\n",
    "model = LinearRegression()"
   ]
  },
  {
   "cell_type": "code",
   "execution_count": 24,
   "id": "d1d83a2f",
   "metadata": {},
   "outputs": [
    {
     "data": {
      "text/html": [
       "<style>#sk-container-id-1 {color: black;background-color: white;}#sk-container-id-1 pre{padding: 0;}#sk-container-id-1 div.sk-toggleable {background-color: white;}#sk-container-id-1 label.sk-toggleable__label {cursor: pointer;display: block;width: 100%;margin-bottom: 0;padding: 0.3em;box-sizing: border-box;text-align: center;}#sk-container-id-1 label.sk-toggleable__label-arrow:before {content: \"▸\";float: left;margin-right: 0.25em;color: #696969;}#sk-container-id-1 label.sk-toggleable__label-arrow:hover:before {color: black;}#sk-container-id-1 div.sk-estimator:hover label.sk-toggleable__label-arrow:before {color: black;}#sk-container-id-1 div.sk-toggleable__content {max-height: 0;max-width: 0;overflow: hidden;text-align: left;background-color: #f0f8ff;}#sk-container-id-1 div.sk-toggleable__content pre {margin: 0.2em;color: black;border-radius: 0.25em;background-color: #f0f8ff;}#sk-container-id-1 input.sk-toggleable__control:checked~div.sk-toggleable__content {max-height: 200px;max-width: 100%;overflow: auto;}#sk-container-id-1 input.sk-toggleable__control:checked~label.sk-toggleable__label-arrow:before {content: \"▾\";}#sk-container-id-1 div.sk-estimator input.sk-toggleable__control:checked~label.sk-toggleable__label {background-color: #d4ebff;}#sk-container-id-1 div.sk-label input.sk-toggleable__control:checked~label.sk-toggleable__label {background-color: #d4ebff;}#sk-container-id-1 input.sk-hidden--visually {border: 0;clip: rect(1px 1px 1px 1px);clip: rect(1px, 1px, 1px, 1px);height: 1px;margin: -1px;overflow: hidden;padding: 0;position: absolute;width: 1px;}#sk-container-id-1 div.sk-estimator {font-family: monospace;background-color: #f0f8ff;border: 1px dotted black;border-radius: 0.25em;box-sizing: border-box;margin-bottom: 0.5em;}#sk-container-id-1 div.sk-estimator:hover {background-color: #d4ebff;}#sk-container-id-1 div.sk-parallel-item::after {content: \"\";width: 100%;border-bottom: 1px solid gray;flex-grow: 1;}#sk-container-id-1 div.sk-label:hover label.sk-toggleable__label {background-color: #d4ebff;}#sk-container-id-1 div.sk-serial::before {content: \"\";position: absolute;border-left: 1px solid gray;box-sizing: border-box;top: 0;bottom: 0;left: 50%;z-index: 0;}#sk-container-id-1 div.sk-serial {display: flex;flex-direction: column;align-items: center;background-color: white;padding-right: 0.2em;padding-left: 0.2em;position: relative;}#sk-container-id-1 div.sk-item {position: relative;z-index: 1;}#sk-container-id-1 div.sk-parallel {display: flex;align-items: stretch;justify-content: center;background-color: white;position: relative;}#sk-container-id-1 div.sk-item::before, #sk-container-id-1 div.sk-parallel-item::before {content: \"\";position: absolute;border-left: 1px solid gray;box-sizing: border-box;top: 0;bottom: 0;left: 50%;z-index: -1;}#sk-container-id-1 div.sk-parallel-item {display: flex;flex-direction: column;z-index: 1;position: relative;background-color: white;}#sk-container-id-1 div.sk-parallel-item:first-child::after {align-self: flex-end;width: 50%;}#sk-container-id-1 div.sk-parallel-item:last-child::after {align-self: flex-start;width: 50%;}#sk-container-id-1 div.sk-parallel-item:only-child::after {width: 0;}#sk-container-id-1 div.sk-dashed-wrapped {border: 1px dashed gray;margin: 0 0.4em 0.5em 0.4em;box-sizing: border-box;padding-bottom: 0.4em;background-color: white;}#sk-container-id-1 div.sk-label label {font-family: monospace;font-weight: bold;display: inline-block;line-height: 1.2em;}#sk-container-id-1 div.sk-label-container {text-align: center;}#sk-container-id-1 div.sk-container {/* jupyter's `normalize.less` sets `[hidden] { display: none; }` but bootstrap.min.css set `[hidden] { display: none !important; }` so we also need the `!important` here to be able to override the default hidden behavior on the sphinx rendered scikit-learn.org. See: https://github.com/scikit-learn/scikit-learn/issues/21755 */display: inline-block !important;position: relative;}#sk-container-id-1 div.sk-text-repr-fallback {display: none;}</style><div id=\"sk-container-id-1\" class=\"sk-top-container\"><div class=\"sk-text-repr-fallback\"><pre>LinearRegression()</pre><b>In a Jupyter environment, please rerun this cell to show the HTML representation or trust the notebook. <br />On GitHub, the HTML representation is unable to render, please try loading this page with nbviewer.org.</b></div><div class=\"sk-container\" hidden><div class=\"sk-item\"><div class=\"sk-estimator sk-toggleable\"><input class=\"sk-toggleable__control sk-hidden--visually\" id=\"sk-estimator-id-1\" type=\"checkbox\" checked><label for=\"sk-estimator-id-1\" class=\"sk-toggleable__label sk-toggleable__label-arrow\">LinearRegression</label><div class=\"sk-toggleable__content\"><pre>LinearRegression()</pre></div></div></div></div></div>"
      ],
      "text/plain": [
       "LinearRegression()"
      ]
     },
     "execution_count": 24,
     "metadata": {},
     "output_type": "execute_result"
    }
   ],
   "source": [
    "model.fit(x_train,y_train)"
   ]
  },
  {
   "cell_type": "code",
   "execution_count": 25,
   "id": "7b8a5577",
   "metadata": {},
   "outputs": [],
   "source": [
    "y_pred=model.predict(x_test)"
   ]
  },
  {
   "cell_type": "code",
   "execution_count": 26,
   "id": "190846b2",
   "metadata": {},
   "outputs": [
    {
     "data": {
      "text/plain": [
       "0.800191679108424"
      ]
     },
     "execution_count": 26,
     "metadata": {},
     "output_type": "execute_result"
    }
   ],
   "source": [
    "from sklearn.metrics import r2_score\n",
    "r2_score(y_test,y_pred)"
   ]
  },
  {
   "cell_type": "code",
   "execution_count": null,
   "id": "3d594be4",
   "metadata": {},
   "outputs": [],
   "source": []
  }
 ],
 "metadata": {
  "kernelspec": {
   "display_name": "Python 3 (ipykernel)",
   "language": "python",
   "name": "python3"
  },
  "language_info": {
   "codemirror_mode": {
    "name": "ipython",
    "version": 3
   },
   "file_extension": ".py",
   "mimetype": "text/x-python",
   "name": "python",
   "nbconvert_exporter": "python",
   "pygments_lexer": "ipython3",
   "version": "3.9.12"
  }
 },
 "nbformat": 4,
 "nbformat_minor": 5
}
